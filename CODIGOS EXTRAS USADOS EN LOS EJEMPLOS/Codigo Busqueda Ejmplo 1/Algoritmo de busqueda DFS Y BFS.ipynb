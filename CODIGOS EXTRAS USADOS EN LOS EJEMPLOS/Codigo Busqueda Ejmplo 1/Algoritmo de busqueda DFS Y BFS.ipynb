{
  "metadata": {
    "language_info": {
      "codemirror_mode": {
        "name": "javascript"
      },
      "file_extension": ".js",
      "mimetype": "text/javascript",
      "name": "javascript",
      "nbconvert_exporter": "javascript",
      "pygments_lexer": "javascript",
      "version": "es2017"
    },
    "kernelspec": {
      "name": "javascript",
      "display_name": "JavaScript (Web Worker)",
      "language": "javascript"
    }
  },
  "nbformat_minor": 4,
  "nbformat": 4,
  "cells": [
    {
      "cell_type": "code",
      "source": "class Nodo {\n    constructor(valor) {\n        this.valor = valor;\n        this.hijos = [];\n    }\n}\n\nfunction bfs(raiz) {\n    let cola = [raiz];\n    let visitados = new Set();\n    \n    while (cola.length > 0) {\n        let nodo = cola.shift();\n        if (!visitados.has(nodo)) {\n            console.log(nodo.valor);\n            visitados.add(nodo);\n            cola.push(...nodo.hijos);\n        }\n    }\n}\nfunction dfs(nodo) {\n    if (nodo !== null) {\n        console.log(nodo.valor);\n        nodo.hijos.forEach(hijo => dfs(hijo));\n    }\n}\n\n// Creamos un arbol \nconst nodo1 = new Nodo(1);\nconst nodo2 = new Nodo(2);\nconst nodo3 = new Nodo(3);\nconst nodo4 = new Nodo(4);\nconst nodo5 = new Nodo(5);\n\nnodo1.hijos = [nodo2, nodo3];\nnodo2.hijos = [nodo4, nodo5];\n\n// Prrobamos y aplicamos el BFS\nconsole.log(\"Recorrido BFS:\");\nbfs(nodo1);\n\n// Prrobamos y aplicamos el DFS\nconsole.log(\"\\nRecorrido DFS:\");\ndfs(nodo1);",
      "metadata": {
        "trusted": true
      },
      "execution_count": 1,
      "outputs": [
        {
          "name": "stdout",
          "text": "Recorrido BFS:\n1\n2\n3\n4\n5\n\nRecorrido DFS:\n1\n2\n4\n5\n3\n",
          "output_type": "stream"
        },
        {
          "execution_count": 1,
          "output_type": "execute_result",
          "data": {},
          "metadata": {}
        }
      ]
    },
    {
      "cell_type": "code",
      "source": "",
      "metadata": {},
      "execution_count": null,
      "outputs": []
    }
  ]
}