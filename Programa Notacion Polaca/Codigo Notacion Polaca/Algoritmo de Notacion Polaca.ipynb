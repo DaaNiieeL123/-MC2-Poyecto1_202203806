{
  "metadata": {
    "language_info": {
      "codemirror_mode": {
        "name": "javascript"
      },
      "file_extension": ".js",
      "mimetype": "text/javascript",
      "name": "javascript",
      "nbconvert_exporter": "javascript",
      "pygments_lexer": "javascript",
      "version": "es2017"
    },
    "kernelspec": {
      "name": "javascript",
      "display_name": "JavaScript (Web Worker)",
      "language": "javascript"
    }
  },
  "nbformat_minor": 4,
  "nbformat": 4,
  "cells": [
    {
      "cell_type": "code",
      "source": "class Nodo {\n    constructor(value) {\n        this.value = value; // Valor del nodo \n        this.left = null;   // Hijo izquierdo\n        this.right = null;  // Hijo derecho\n    }\n}\n\nfunction construirArbol(expresion) {\n    const pila = []; // Inicializamos una variable vacía para almacenar los resultados.\n\n    for (const token of expresion) {\n        if (!isNaN(token)) { // Si el token es un número\n            pila.push(new Nodo(parseInt(token)));\n        } else { // Si el token es un operador\n            const dcha = pila.pop(); \n            const izq = pila.pop(); \n            const nodo = new Nodo(token); \n            nodo.left = izq;\n            nodo.right = dcha;\n            pila.push(nodo);\n        }\n    }\n\n    return pila.pop(); // Retonar el  último elemento en la pila del árbol construido\n}\n\nfunction evaluar(nodo) {\n    if (!isNaN(nodo.value)) { // Si el valor del nodo es un número\n        return nodo.value;\n    }\n\n    const izq = evaluar(nodo.left);\n    const dcha = evaluar(nodo.right);\n\n    switch (nodo.value) { // Dependiendo del operador evaluar.\n        case '+': // Suma\n            return izq + dcha;\n        case '-': // Resta\n            return izq - dcha;\n        case '*': // Multiplicación\n            return izq * dcha;\n        case '/': // División\n            return izq / dcha;\n        default:\n            return null; // Si no hay un operador reconocido, nos dará un valor Nulo\n    }\n}\n\n// Expresiones en notación polaca\nconst expresion1 = ['5', '2', '4', '*', '+', '7', '-'];\nconst expresion2 = ['6', '2', '*', '3', '5', '*', '+', '18', '-'];\nconst expresion3 = ['8', '4', '2', '/', '/'];\n\n\n// Construimos los árboles y evaluar las expresiones\nconst arbolExpresion1 = construirArbol(expresion1);\nconst arbolExpresion2 = construirArbol(expresion2);\nconst arbolExpresion3 = construirArbol(expresion3);\nconst resultado1 = evaluar(arbolExpresion1);\nconst resultado2 = evaluar(arbolExpresion2);\nconst resultado3 = evaluar(arbolExpresion3);\n\nconsole.log(\"\\nEl resultado de la Expresion 1 es: \" + resultado1);\nconsole.log(\"\\nEl resultado de la Expresion 2 es: \" + resultado2);\nconsole.log(\"\\nEl resultado de la Expresion 3 es: \" + resultado3);",
      "metadata": {},
      "execution_count": null,
      "outputs": []
    },
    {
      "cell_type": "code",
      "source": "",
      "metadata": {},
      "execution_count": null,
      "outputs": []
    }
  ]
}